{
 "cells": [
  {
   "cell_type": "markdown",
   "metadata": {
    "id": "PhqmXRpLBkiA"
   },
   "source": [
    "# 重回帰分析"
   ]
  },
  {
   "cell_type": "markdown",
   "metadata": {
    "id": "6ZN-KXfYBkiB"
   },
   "source": [
    "## ライブラリのインポート"
   ]
  },
  {
   "cell_type": "code",
   "execution_count": 5,
   "metadata": {
    "executionInfo": {
     "elapsed": 1965,
     "status": "ok",
     "timestamp": 1610397586902,
     "user": {
      "displayName": "大橋亮太",
      "photoUrl": "https://lh3.googleusercontent.com/a-/AOh14GhFokO6EHeahHCfPwwsdFDZ032QjGklENvN7oUqPbGvn1Q-x6gP2bcMZBCBTwEltaZ7ubbJ-u96CEgK4pjkJfhLrf5HAQICEte_8njoXKamd_XQQ0OP-j9FCXr-9tvxjR-TXU9bUF203U6q4G-h1PHxOJdHKev8_z5tJwXw_xEEFhmcQ0W0TfihWody0gBxNrcuqjKOL0uMoREB8kgnkBGxvxG7SKf6dEzPg9cUxKlm0kP5BUHRShCNy1Iio-jRaE559ziFNbTQ9a59shf1BKUwnV_FGOv3TvVzZqbVeIriXPUGb6RnXkzzaty6ieIP9N0uvU6mvGF_3JG0uVs7eGWBMxGv6YFia6xpRjXN1QIVuzOSuB4ziBCFgcrqlaK6r4rdZWlXGnHpR8F53iFikupJOShtaEqWjWOO910nbJ0zB1OYhPfudtZ5zjOxeUbp0coq8eeWFbUaN1Zi723E-4c9vqhOjenQNW0kEwlVH5X0xlMTPxBt8hhPhbCfXyyTdp3Tg0vtxMBujyj_m3toM4ZA5ar7Fiwec3ApZ6tRQBWEilc_EVLJceINS1mINMlB_fbPzMkR1RuNRhsXBw6gTpwJHzcbz-0XLw4WgWV7qkr-yU0ve7zwIbu83eVWOL_p8T2SwKEahHyuU7S-mTHe-TvLTTj1lHaLIg8XaOI8VYWPil6E6bNYo7aGAmQX2QaMnT5BZVXRe0xQM_Y22eY6nckYBw6cW-K9tsHJZ46y34wFmUFExDvnAd9FuSHbX-mM10B0Tw=s64",
      "userId": "04193769736923210432"
     },
     "user_tz": -540
    },
    "id": "_xLhzB65BkiC"
   },
   "outputs": [],
   "source": [
    "import numpy as np\n",
    "import pandas as pd\n",
    "import matplotlib.pyplot as plt\n",
    "import seaborn as sns\n",
    "sns.set()\n",
    "\n",
    "from sklearn.linear_model import LinearRegression"
   ]
  },
  {
   "cell_type": "markdown",
   "metadata": {
    "id": "3Q0HAOOSBkiF"
   },
   "source": [
    "## データの読み込み"
   ]
  },
  {
   "cell_type": "code",
   "execution_count": 6,
   "metadata": {
    "colab": {
     "base_uri": "https://localhost:8080/",
     "height": 204
    },
    "executionInfo": {
     "elapsed": 574,
     "status": "ok",
     "timestamp": 1610397588513,
     "user": {
      "displayName": "大橋亮太",
      "photoUrl": "https://lh3.googleusercontent.com/a-/AOh14GhFokO6EHeahHCfPwwsdFDZ032QjGklENvN7oUqPbGvn1Q-x6gP2bcMZBCBTwEltaZ7ubbJ-u96CEgK4pjkJfhLrf5HAQICEte_8njoXKamd_XQQ0OP-j9FCXr-9tvxjR-TXU9bUF203U6q4G-h1PHxOJdHKev8_z5tJwXw_xEEFhmcQ0W0TfihWody0gBxNrcuqjKOL0uMoREB8kgnkBGxvxG7SKf6dEzPg9cUxKlm0kP5BUHRShCNy1Iio-jRaE559ziFNbTQ9a59shf1BKUwnV_FGOv3TvVzZqbVeIriXPUGb6RnXkzzaty6ieIP9N0uvU6mvGF_3JG0uVs7eGWBMxGv6YFia6xpRjXN1QIVuzOSuB4ziBCFgcrqlaK6r4rdZWlXGnHpR8F53iFikupJOShtaEqWjWOO910nbJ0zB1OYhPfudtZ5zjOxeUbp0coq8eeWFbUaN1Zi723E-4c9vqhOjenQNW0kEwlVH5X0xlMTPxBt8hhPhbCfXyyTdp3Tg0vtxMBujyj_m3toM4ZA5ar7Fiwec3ApZ6tRQBWEilc_EVLJceINS1mINMlB_fbPzMkR1RuNRhsXBw6gTpwJHzcbz-0XLw4WgWV7qkr-yU0ve7zwIbu83eVWOL_p8T2SwKEahHyuU7S-mTHe-TvLTTj1lHaLIg8XaOI8VYWPil6E6bNYo7aGAmQX2QaMnT5BZVXRe0xQM_Y22eY6nckYBw6cW-K9tsHJZ46y34wFmUFExDvnAd9FuSHbX-mM10B0Tw=s64",
      "userId": "04193769736923210432"
     },
     "user_tz": -540
    },
    "id": "VfWJNDNhBkiG",
    "outputId": "658ef2c0-21e0-4e01-a2c0-bf7ee1782a65"
   },
   "outputs": [
    {
     "data": {
      "text/html": [
       "<div>\n",
       "<style scoped>\n",
       "    .dataframe tbody tr th:only-of-type {\n",
       "        vertical-align: middle;\n",
       "    }\n",
       "\n",
       "    .dataframe tbody tr th {\n",
       "        vertical-align: top;\n",
       "    }\n",
       "\n",
       "    .dataframe thead th {\n",
       "        text-align: right;\n",
       "    }\n",
       "</style>\n",
       "<table border=\"1\" class=\"dataframe\">\n",
       "  <thead>\n",
       "    <tr style=\"text-align: right;\">\n",
       "      <th></th>\n",
       "      <th>SAT</th>\n",
       "      <th>Rand 1,2,3</th>\n",
       "      <th>GPA</th>\n",
       "    </tr>\n",
       "  </thead>\n",
       "  <tbody>\n",
       "    <tr>\n",
       "      <th>0</th>\n",
       "      <td>1714</td>\n",
       "      <td>1</td>\n",
       "      <td>2.40</td>\n",
       "    </tr>\n",
       "    <tr>\n",
       "      <th>1</th>\n",
       "      <td>1664</td>\n",
       "      <td>3</td>\n",
       "      <td>2.52</td>\n",
       "    </tr>\n",
       "    <tr>\n",
       "      <th>2</th>\n",
       "      <td>1760</td>\n",
       "      <td>3</td>\n",
       "      <td>2.54</td>\n",
       "    </tr>\n",
       "    <tr>\n",
       "      <th>3</th>\n",
       "      <td>1685</td>\n",
       "      <td>3</td>\n",
       "      <td>2.74</td>\n",
       "    </tr>\n",
       "    <tr>\n",
       "      <th>4</th>\n",
       "      <td>1693</td>\n",
       "      <td>2</td>\n",
       "      <td>2.83</td>\n",
       "    </tr>\n",
       "  </tbody>\n",
       "</table>\n",
       "</div>"
      ],
      "text/plain": [
       "    SAT  Rand 1,2,3   GPA\n",
       "0  1714           1  2.40\n",
       "1  1664           3  2.52\n",
       "2  1760           3  2.54\n",
       "3  1685           3  2.74\n",
       "4  1693           2  2.83"
      ]
     },
     "execution_count": 6,
     "metadata": {},
     "output_type": "execute_result"
    }
   ],
   "source": [
    "data = pd.read_csv('1.02.Multiple-linear-regression.csv')\n",
    "\n",
    "data.head()"
   ]
  },
  {
   "cell_type": "code",
   "execution_count": 7,
   "metadata": {
    "colab": {
     "base_uri": "https://localhost:8080/",
     "height": 297
    },
    "executionInfo": {
     "elapsed": 738,
     "status": "ok",
     "timestamp": 1610397590253,
     "user": {
      "displayName": "大橋亮太",
      "photoUrl": "https://lh3.googleusercontent.com/a-/AOh14GhFokO6EHeahHCfPwwsdFDZ032QjGklENvN7oUqPbGvn1Q-x6gP2bcMZBCBTwEltaZ7ubbJ-u96CEgK4pjkJfhLrf5HAQICEte_8njoXKamd_XQQ0OP-j9FCXr-9tvxjR-TXU9bUF203U6q4G-h1PHxOJdHKev8_z5tJwXw_xEEFhmcQ0W0TfihWody0gBxNrcuqjKOL0uMoREB8kgnkBGxvxG7SKf6dEzPg9cUxKlm0kP5BUHRShCNy1Iio-jRaE559ziFNbTQ9a59shf1BKUwnV_FGOv3TvVzZqbVeIriXPUGb6RnXkzzaty6ieIP9N0uvU6mvGF_3JG0uVs7eGWBMxGv6YFia6xpRjXN1QIVuzOSuB4ziBCFgcrqlaK6r4rdZWlXGnHpR8F53iFikupJOShtaEqWjWOO910nbJ0zB1OYhPfudtZ5zjOxeUbp0coq8eeWFbUaN1Zi723E-4c9vqhOjenQNW0kEwlVH5X0xlMTPxBt8hhPhbCfXyyTdp3Tg0vtxMBujyj_m3toM4ZA5ar7Fiwec3ApZ6tRQBWEilc_EVLJceINS1mINMlB_fbPzMkR1RuNRhsXBw6gTpwJHzcbz-0XLw4WgWV7qkr-yU0ve7zwIbu83eVWOL_p8T2SwKEahHyuU7S-mTHe-TvLTTj1lHaLIg8XaOI8VYWPil6E6bNYo7aGAmQX2QaMnT5BZVXRe0xQM_Y22eY6nckYBw6cW-K9tsHJZ46y34wFmUFExDvnAd9FuSHbX-mM10B0Tw=s64",
      "userId": "04193769736923210432"
     },
     "user_tz": -540
    },
    "id": "3G3pcO7fBkiK",
    "outputId": "29af3942-6367-48de-99a9-a645cb8adfa3"
   },
   "outputs": [
    {
     "data": {
      "text/html": [
       "<div>\n",
       "<style scoped>\n",
       "    .dataframe tbody tr th:only-of-type {\n",
       "        vertical-align: middle;\n",
       "    }\n",
       "\n",
       "    .dataframe tbody tr th {\n",
       "        vertical-align: top;\n",
       "    }\n",
       "\n",
       "    .dataframe thead th {\n",
       "        text-align: right;\n",
       "    }\n",
       "</style>\n",
       "<table border=\"1\" class=\"dataframe\">\n",
       "  <thead>\n",
       "    <tr style=\"text-align: right;\">\n",
       "      <th></th>\n",
       "      <th>SAT</th>\n",
       "      <th>Rand 1,2,3</th>\n",
       "      <th>GPA</th>\n",
       "    </tr>\n",
       "  </thead>\n",
       "  <tbody>\n",
       "    <tr>\n",
       "      <th>count</th>\n",
       "      <td>84.000000</td>\n",
       "      <td>84.000000</td>\n",
       "      <td>84.000000</td>\n",
       "    </tr>\n",
       "    <tr>\n",
       "      <th>mean</th>\n",
       "      <td>1845.273810</td>\n",
       "      <td>2.059524</td>\n",
       "      <td>3.330238</td>\n",
       "    </tr>\n",
       "    <tr>\n",
       "      <th>std</th>\n",
       "      <td>104.530661</td>\n",
       "      <td>0.855192</td>\n",
       "      <td>0.271617</td>\n",
       "    </tr>\n",
       "    <tr>\n",
       "      <th>min</th>\n",
       "      <td>1634.000000</td>\n",
       "      <td>1.000000</td>\n",
       "      <td>2.400000</td>\n",
       "    </tr>\n",
       "    <tr>\n",
       "      <th>25%</th>\n",
       "      <td>1772.000000</td>\n",
       "      <td>1.000000</td>\n",
       "      <td>3.190000</td>\n",
       "    </tr>\n",
       "    <tr>\n",
       "      <th>50%</th>\n",
       "      <td>1846.000000</td>\n",
       "      <td>2.000000</td>\n",
       "      <td>3.380000</td>\n",
       "    </tr>\n",
       "    <tr>\n",
       "      <th>75%</th>\n",
       "      <td>1934.000000</td>\n",
       "      <td>3.000000</td>\n",
       "      <td>3.502500</td>\n",
       "    </tr>\n",
       "    <tr>\n",
       "      <th>max</th>\n",
       "      <td>2050.000000</td>\n",
       "      <td>3.000000</td>\n",
       "      <td>3.810000</td>\n",
       "    </tr>\n",
       "  </tbody>\n",
       "</table>\n",
       "</div>"
      ],
      "text/plain": [
       "               SAT  Rand 1,2,3        GPA\n",
       "count    84.000000   84.000000  84.000000\n",
       "mean   1845.273810    2.059524   3.330238\n",
       "std     104.530661    0.855192   0.271617\n",
       "min    1634.000000    1.000000   2.400000\n",
       "25%    1772.000000    1.000000   3.190000\n",
       "50%    1846.000000    2.000000   3.380000\n",
       "75%    1934.000000    3.000000   3.502500\n",
       "max    2050.000000    3.000000   3.810000"
      ]
     },
     "execution_count": 7,
     "metadata": {},
     "output_type": "execute_result"
    }
   ],
   "source": [
    "data.describe()"
   ]
  },
  {
   "cell_type": "markdown",
   "metadata": {
    "id": "Kn7BQfe-BkiM"
   },
   "source": [
    "## 重回帰分析モデルを作成します"
   ]
  },
  {
   "cell_type": "markdown",
   "metadata": {
    "id": "DFvKrhCdBkiM"
   },
   "source": [
    "### 従属変数と独立変数を定義します"
   ]
  },
  {
   "cell_type": "code",
   "execution_count": 8,
   "metadata": {
    "executionInfo": {
     "elapsed": 578,
     "status": "ok",
     "timestamp": 1610397592195,
     "user": {
      "displayName": "大橋亮太",
      "photoUrl": "https://lh3.googleusercontent.com/a-/AOh14GhFokO6EHeahHCfPwwsdFDZ032QjGklENvN7oUqPbGvn1Q-x6gP2bcMZBCBTwEltaZ7ubbJ-u96CEgK4pjkJfhLrf5HAQICEte_8njoXKamd_XQQ0OP-j9FCXr-9tvxjR-TXU9bUF203U6q4G-h1PHxOJdHKev8_z5tJwXw_xEEFhmcQ0W0TfihWody0gBxNrcuqjKOL0uMoREB8kgnkBGxvxG7SKf6dEzPg9cUxKlm0kP5BUHRShCNy1Iio-jRaE559ziFNbTQ9a59shf1BKUwnV_FGOv3TvVzZqbVeIriXPUGb6RnXkzzaty6ieIP9N0uvU6mvGF_3JG0uVs7eGWBMxGv6YFia6xpRjXN1QIVuzOSuB4ziBCFgcrqlaK6r4rdZWlXGnHpR8F53iFikupJOShtaEqWjWOO910nbJ0zB1OYhPfudtZ5zjOxeUbp0coq8eeWFbUaN1Zi723E-4c9vqhOjenQNW0kEwlVH5X0xlMTPxBt8hhPhbCfXyyTdp3Tg0vtxMBujyj_m3toM4ZA5ar7Fiwec3ApZ6tRQBWEilc_EVLJceINS1mINMlB_fbPzMkR1RuNRhsXBw6gTpwJHzcbz-0XLw4WgWV7qkr-yU0ve7zwIbu83eVWOL_p8T2SwKEahHyuU7S-mTHe-TvLTTj1lHaLIg8XaOI8VYWPil6E6bNYo7aGAmQX2QaMnT5BZVXRe0xQM_Y22eY6nckYBw6cW-K9tsHJZ46y34wFmUFExDvnAd9FuSHbX-mM10B0Tw=s64",
      "userId": "04193769736923210432"
     },
     "user_tz": -540
    },
    "id": "Jb7J9HkfBkiN"
   },
   "outputs": [],
   "source": [
    "x = data[['SAT','Rand 1,2,3']]\n",
    "\n",
    "y = data['GPA']"
   ]
  },
  {
   "cell_type": "markdown",
   "metadata": {
    "id": "dcLDyhKPBkiP"
   },
   "source": [
    "### 回帰"
   ]
  },
  {
   "cell_type": "code",
   "execution_count": 9,
   "metadata": {
    "colab": {
     "base_uri": "https://localhost:8080/"
    },
    "executionInfo": {
     "elapsed": 833,
     "status": "ok",
     "timestamp": 1610397594199,
     "user": {
      "displayName": "大橋亮太",
      "photoUrl": "https://lh3.googleusercontent.com/a-/AOh14GhFokO6EHeahHCfPwwsdFDZ032QjGklENvN7oUqPbGvn1Q-x6gP2bcMZBCBTwEltaZ7ubbJ-u96CEgK4pjkJfhLrf5HAQICEte_8njoXKamd_XQQ0OP-j9FCXr-9tvxjR-TXU9bUF203U6q4G-h1PHxOJdHKev8_z5tJwXw_xEEFhmcQ0W0TfihWody0gBxNrcuqjKOL0uMoREB8kgnkBGxvxG7SKf6dEzPg9cUxKlm0kP5BUHRShCNy1Iio-jRaE559ziFNbTQ9a59shf1BKUwnV_FGOv3TvVzZqbVeIriXPUGb6RnXkzzaty6ieIP9N0uvU6mvGF_3JG0uVs7eGWBMxGv6YFia6xpRjXN1QIVuzOSuB4ziBCFgcrqlaK6r4rdZWlXGnHpR8F53iFikupJOShtaEqWjWOO910nbJ0zB1OYhPfudtZ5zjOxeUbp0coq8eeWFbUaN1Zi723E-4c9vqhOjenQNW0kEwlVH5X0xlMTPxBt8hhPhbCfXyyTdp3Tg0vtxMBujyj_m3toM4ZA5ar7Fiwec3ApZ6tRQBWEilc_EVLJceINS1mINMlB_fbPzMkR1RuNRhsXBw6gTpwJHzcbz-0XLw4WgWV7qkr-yU0ve7zwIbu83eVWOL_p8T2SwKEahHyuU7S-mTHe-TvLTTj1lHaLIg8XaOI8VYWPil6E6bNYo7aGAmQX2QaMnT5BZVXRe0xQM_Y22eY6nckYBw6cW-K9tsHJZ46y34wFmUFExDvnAd9FuSHbX-mM10B0Tw=s64",
      "userId": "04193769736923210432"
     },
     "user_tz": -540
    },
    "id": "aSUHnTLZBkiP",
    "outputId": "f8a73d27-5eb0-4e67-aa5f-6687fc409f44"
   },
   "outputs": [
    {
     "data": {
      "text/plain": [
       "LinearRegression()"
      ]
     },
     "execution_count": 9,
     "metadata": {},
     "output_type": "execute_result"
    }
   ],
   "source": [
    "reg = LinearRegression()\n",
    "\n",
    "reg.fit(x,y)"
   ]
  },
  {
   "cell_type": "code",
   "execution_count": 10,
   "metadata": {
    "colab": {
     "base_uri": "https://localhost:8080/"
    },
    "executionInfo": {
     "elapsed": 696,
     "status": "ok",
     "timestamp": 1610397598073,
     "user": {
      "displayName": "大橋亮太",
      "photoUrl": "https://lh3.googleusercontent.com/a-/AOh14GhFokO6EHeahHCfPwwsdFDZ032QjGklENvN7oUqPbGvn1Q-x6gP2bcMZBCBTwEltaZ7ubbJ-u96CEgK4pjkJfhLrf5HAQICEte_8njoXKamd_XQQ0OP-j9FCXr-9tvxjR-TXU9bUF203U6q4G-h1PHxOJdHKev8_z5tJwXw_xEEFhmcQ0W0TfihWody0gBxNrcuqjKOL0uMoREB8kgnkBGxvxG7SKf6dEzPg9cUxKlm0kP5BUHRShCNy1Iio-jRaE559ziFNbTQ9a59shf1BKUwnV_FGOv3TvVzZqbVeIriXPUGb6RnXkzzaty6ieIP9N0uvU6mvGF_3JG0uVs7eGWBMxGv6YFia6xpRjXN1QIVuzOSuB4ziBCFgcrqlaK6r4rdZWlXGnHpR8F53iFikupJOShtaEqWjWOO910nbJ0zB1OYhPfudtZ5zjOxeUbp0coq8eeWFbUaN1Zi723E-4c9vqhOjenQNW0kEwlVH5X0xlMTPxBt8hhPhbCfXyyTdp3Tg0vtxMBujyj_m3toM4ZA5ar7Fiwec3ApZ6tRQBWEilc_EVLJceINS1mINMlB_fbPzMkR1RuNRhsXBw6gTpwJHzcbz-0XLw4WgWV7qkr-yU0ve7zwIbu83eVWOL_p8T2SwKEahHyuU7S-mTHe-TvLTTj1lHaLIg8XaOI8VYWPil6E6bNYo7aGAmQX2QaMnT5BZVXRe0xQM_Y22eY6nckYBw6cW-K9tsHJZ46y34wFmUFExDvnAd9FuSHbX-mM10B0Tw=s64",
      "userId": "04193769736923210432"
     },
     "user_tz": -540
    },
    "id": "WKiPt9lnBkiS",
    "outputId": "f9c2210c-deeb-41d0-a4c4-52f60a026cde"
   },
   "outputs": [
    {
     "data": {
      "text/plain": [
       "array([ 0.00165354, -0.00826982])"
      ]
     },
     "execution_count": 10,
     "metadata": {},
     "output_type": "execute_result"
    }
   ],
   "source": [
    "reg.coef_"
   ]
  },
  {
   "cell_type": "code",
   "execution_count": 11,
   "metadata": {
    "colab": {
     "base_uri": "https://localhost:8080/",
     "height": 34
    },
    "executionInfo": {
     "elapsed": 473,
     "status": "ok",
     "timestamp": 1590010816968,
     "user": {
      "displayName": "大橋亮太",
      "photoUrl": "",
      "userId": "04193769736923210432"
     },
     "user_tz": -540
    },
    "id": "ukpJpOLpBkiU",
    "outputId": "bd58370d-1370-4667-cf18-449f86bbb120"
   },
   "outputs": [
    {
     "data": {
      "text/plain": [
       "0.29603261264909486"
      ]
     },
     "execution_count": 11,
     "metadata": {},
     "output_type": "execute_result"
    }
   ],
   "source": [
    "reg.intercept_"
   ]
  },
  {
   "cell_type": "markdown",
   "metadata": {
    "id": "vOoGye79Bnkb"
   },
   "source": [
    "### Formula for Adjusted R^2\n",
    "$R^2_{adj.}=1-(1-R^2)*\\frac{n-1}{n-p-1}$"
   ]
  },
  {
   "cell_type": "code",
   "execution_count": 12,
   "metadata": {},
   "outputs": [],
   "source": [
    "r2 = reg.score(x,y)"
   ]
  },
  {
   "cell_type": "code",
   "execution_count": 13,
   "metadata": {},
   "outputs": [],
   "source": [
    "n=x.shape[0]\n",
    "p=x.shape[1]"
   ]
  },
  {
   "cell_type": "code",
   "execution_count": 14,
   "metadata": {},
   "outputs": [
    {
     "data": {
      "text/plain": [
       "0.39203134825134023"
      ]
     },
     "execution_count": 14,
     "metadata": {},
     "output_type": "execute_result"
    }
   ],
   "source": [
    "adjusted_rd = 1-(1-r2)*(n-1)/(n-p-1)\n",
    "adjusted_rd\n"
   ]
  },
  {
   "cell_type": "markdown",
   "metadata": {},
   "source": [
    "# 結果としてわかったこと\n",
    "+通常の決定係数に比較して、自由度修正済み決定係数のほうが小さいので「どこかの変数がおかしい」ということがなんとなくわかる。\n",
    "+各変数に関してP値を計算して、その値が大きければその変数は従属変数に対して影響がないと判断できる"
   ]
  },
  {
   "cell_type": "markdown",
   "metadata": {},
   "source": [
    "# Feature selection"
   ]
  },
  {
   "cell_type": "code",
   "execution_count": 15,
   "metadata": {},
   "outputs": [
    {
     "data": {
      "text/plain": [
       "(array([56.04804786,  0.17558437]), array([7.19951844e-11, 6.76291372e-01]))"
      ]
     },
     "execution_count": 15,
     "metadata": {},
     "output_type": "execute_result"
    }
   ],
   "source": [
    "from sklearn.feature_selection import f_regression\n",
    "f_regression(x,y)"
   ]
  },
  {
   "cell_type": "markdown",
   "metadata": {},
   "source": [
    "### 結果が何を意味しているか？ →　左（F値）、右（P値）"
   ]
  },
  {
   "cell_type": "code",
   "execution_count": 19,
   "metadata": {},
   "outputs": [],
   "source": [
    "p_values = f_regression(x,y)[1]"
   ]
  },
  {
   "cell_type": "code",
   "execution_count": 20,
   "metadata": {},
   "outputs": [
    {
     "data": {
      "text/plain": [
       "array([7.19951844e-11, 6.76291372e-01])"
      ]
     },
     "execution_count": 20,
     "metadata": {},
     "output_type": "execute_result"
    }
   ],
   "source": [
    "p_values"
   ]
  },
  {
   "cell_type": "code",
   "execution_count": null,
   "metadata": {},
   "outputs": [],
   "source": []
  }
 ],
 "metadata": {
  "colab": {
   "name": "sklearn - Multiple Linear Regression.ipynb",
   "provenance": [],
   "toc_visible": true
  },
  "kernelspec": {
   "display_name": "Python 3",
   "language": "python",
   "name": "python3"
  },
  "language_info": {
   "codemirror_mode": {
    "name": "ipython",
    "version": 3
   },
   "file_extension": ".py",
   "mimetype": "text/x-python",
   "name": "python",
   "nbconvert_exporter": "python",
   "pygments_lexer": "ipython3",
   "version": "3.8.5"
  }
 },
 "nbformat": 4,
 "nbformat_minor": 4
}
